{
 "cells": [
  {
   "cell_type": "markdown",
   "metadata": {},
   "source": [
    "# 原始用法(需要等待较长时间搜索和函数体回传)"
   ]
  },
  {
   "cell_type": "code",
   "execution_count": null,
   "metadata": {},
   "outputs": [],
   "source": [
    "from __future__ import print_function\n",
    "import fibre\n",
    "import ref_tool\n",
    "# logger verbose=True\n",
    "logger = fibre.utils.Logger(verbose=True)\n",
    "# Find an REF-Unit that is connected on the serial port /dev/ttyUSB0\n",
    "# my_drive = ref_tool.find_any(\"serial:/dev/ttyUSB0\")\n",
    "# my_drive = ref_tool.find_any(serial_number=\"3950366E3233\", logger=logger)\n",
    "my_drive = ref_tool.find_any()"
   ]
  },
  {
   "cell_type": "code",
   "execution_count": 2,
   "metadata": {},
   "outputs": [
    {
     "data": {
      "text/plain": [
       "serial_number = 395136713233 (int)\n",
       "get_temperature()\n",
       "get_voltage()\n",
       "robot:\n",
       "  calibrate_home_offset()\n",
       "  homing()\n",
       "  resting()\n",
       "  joint_1: ...\n",
       "  joint_2: ...\n",
       "  joint_3: ...\n",
       "  joint_4: ...\n",
       "  joint_5: ...\n",
       "  joint_6: ...\n",
       "  joint_all: ...\n",
       "  hand: ...\n",
       "  reboot()\n",
       "  set_enable(enable: bool)\n",
       "  set_rgb_enable(enable: bool)\n",
       "  set_rgb_mode(mode: int)\n",
       "  move_j(j1: float, j2: float, j3: float, j4: float, j5: float, j6: float)\n",
       "  move_l(x: float, y: float, z: float, a: float, b: float, c: float)\n",
       "  set_joint_speed(speed: float)\n",
       "  set_joint_acc(acc: float)\n",
       "  set_command_mode(mode: int)\n",
       "  set_drag_enable(enable: bool)\n",
       "  tuning: ...\n",
       "  eef_pose: ..."
      ]
     },
     "execution_count": 2,
     "metadata": {},
     "output_type": "execute_result"
    }
   ],
   "source": [
    "my_drive"
   ]
  },
  {
   "cell_type": "markdown",
   "metadata": {},
   "source": [
    "# 预先搜索和函数体缓存"
   ]
  },
  {
   "cell_type": "code",
   "execution_count": 9,
   "metadata": {},
   "outputs": [],
   "source": [
    "import usb\n",
    "devices = usb.core.find(find_all=True, idVendor=0x1209,idProduct=0x0d32)\n",
    "count = 0\n",
    "sn_to_device_dict = {}\n",
    "for device in devices:\n",
    "    sn_to_device_dict[device.serial_number] = device"
   ]
  },
  {
   "cell_type": "code",
   "execution_count": null,
   "metadata": {},
   "outputs": [],
   "source": [
    "sn_to_device_dict"
   ]
  },
  {
   "cell_type": "code",
   "execution_count": null,
   "metadata": {},
   "outputs": [],
   "source": [
    "import usb\n",
    "import json\n",
    "import fibre.protocol\n",
    "from fibre.usbbulk_transport import USBBulkTransport\n",
    "from fibre.utils import Logger\n",
    "\n",
    "# Create logger\n",
    "logger = Logger(verbose=False)\n",
    "\n",
    "# Find all devices with specified vendor and product IDs\n",
    "devices = usb.core.find(find_all=True, idVendor=0x1209, idProduct=0x0d32)\n",
    "\n",
    "# Create dictionary to store devices by serial number\n",
    "sn_to_device_dict = {}\n",
    "for device in devices:\n",
    "    sn_to_device_dict[device.serial_number] = device\n",
    "print(sn_to_device_dict)\n",
    "# Store json data for each device\n",
    "sn_to_json_data = {}\n",
    "\n",
    "# Get json data for each device\n",
    "for serial_number, device in sn_to_device_dict.items():\n",
    "    # Reset and configure device\n",
    "    device.reset()\n",
    "    device.set_configuration()\n",
    "    \n",
    "    # Create transport layer\n",
    "    bulk_device = USBBulkTransport(device, logger)\n",
    "    bulk_device.init()\n",
    "    \n",
    "    # Create channel\n",
    "    channel = fibre.protocol.Channel(\n",
    "        \"USB device bus {} device {}\".format(device.bus, device.address),\n",
    "        bulk_device, bulk_device, None, logger\n",
    "    )\n",
    "    \n",
    "    # Get and parse json data\n",
    "    json_bytes = channel.remote_endpoint_read_buffer(0)\n",
    "    json_string = json_bytes.decode(\"ascii\")\n",
    "    json_data = json.loads(json_string)\n",
    "    json_data = {\"name\": \"fibre_node\", \"members\": json_data}\n",
    "    \n",
    "    # Store in dictionary\n",
    "    sn_to_json_data[serial_number] = json_data\n"
   ]
  },
  {
   "cell_type": "code",
   "execution_count": null,
   "metadata": {},
   "outputs": [],
   "source": [
    "sn_to_json_data"
   ]
  },
  {
   "cell_type": "code",
   "execution_count": 10,
   "metadata": {},
   "outputs": [],
   "source": [
    "# Save to file\n",
    "with open('sn_to_json_data.json', 'w') as f:\n",
    "    json.dump(sn_to_json_data, f)"
   ]
  },
  {
   "cell_type": "markdown",
   "metadata": {},
   "source": [
    "# 根据预先缓存信息加速设备驱动加载"
   ]
  },
  {
   "cell_type": "code",
   "execution_count": 23,
   "metadata": {},
   "outputs": [],
   "source": [
    "import json\n",
    "import fibre\n",
    "logger = fibre.utils.Logger(verbose=False)\n",
    "# Load the cached json data\n",
    "with open('sn_to_json_data.json', 'r') as f:\n",
    "    cached_json_data = json.load(f)\n",
    "\n",
    "# Create a function to load device driver with cached json data\n",
    "def load_channel_with_cache(serial_number, json_data):\n",
    "    \"\"\"\n",
    "    Load device driver using pre-cached JSON data to accelerate initialization\n",
    "    \"\"\"\n",
    "    import usb\n",
    "    import fibre.protocol\n",
    "    from fibre.usbbulk_transport import USBBulkTransport\n",
    "    from fibre.utils import Logger\n",
    "    \n",
    "    # Create logger\n",
    "    logger = Logger(verbose=False)\n",
    "    \n",
    "    # Find device with specified serial number\n",
    "    device = usb.core.find(idVendor=0x1209, idProduct=0x0d32, \n",
    "                          serial_number=serial_number)\n",
    "    \n",
    "    if not device:\n",
    "        raise Exception(f\"Device with serial number {serial_number} not found\")\n",
    "        \n",
    "    # Reset and configure device\n",
    "    device.reset()\n",
    "    device.set_configuration()\n",
    "    \n",
    "    # Create transport layer\n",
    "    bulk_device = USBBulkTransport(device, logger)\n",
    "    bulk_device.init()\n",
    "    \n",
    "    # Create channel with cached json data\n",
    "    channel = fibre.protocol.Channel(\n",
    "        \"USB device bus {} device {}\".format(device.bus, device.address),\n",
    "        bulk_device, bulk_device, None, logger\n",
    "    )\n",
    "    \n",
    "    # Use cached json data instead of reading from device\n",
    "    channel._interface_definition_crc = json_data.get('json_crc', 0)\n",
    "    channel._remote_objects = json_data\n",
    "    \n",
    "    return channel"
   ]
  },
  {
   "cell_type": "code",
   "execution_count": 24,
   "metadata": {},
   "outputs": [],
   "source": [
    "# Load device driver using cache\n",
    "serial_number = \"3950366E3233\"  \n",
    "json_data = cached_json_data[serial_number]\n",
    "channel = load_channel_with_cache(serial_number, json_data)\n"
   ]
  },
  {
   "cell_type": "code",
   "execution_count": 39,
   "metadata": {},
   "outputs": [],
   "source": [
    "\n",
    "obj = fibre.remote_object.RemoteObject(json_data, None, channel, logger)\n",
    "json_bytes = json.dumps(json_data['members']).encode('utf-8')\n",
    "json_crc16 = fibre.protocol.calc_crc16(fibre.protocol.PROTOCOL_VERSION, json_bytes)\n",
    "obj.__dict__['_json_data'] = json_data['members']\n",
    "obj.__dict__['_json_crc'] = json_crc16"
   ]
  },
  {
   "cell_type": "code",
   "execution_count": null,
   "metadata": {},
   "outputs": [],
   "source": []
  },
  {
   "cell_type": "code",
   "execution_count": null,
   "metadata": {},
   "outputs": [],
   "source": []
  }
 ],
 "metadata": {
  "kernelspec": {
   "display_name": ".venv",
   "language": "python",
   "name": "python3"
  },
  "language_info": {
   "codemirror_mode": {
    "name": "ipython",
    "version": 3
   },
   "file_extension": ".py",
   "mimetype": "text/x-python",
   "name": "python",
   "nbconvert_exporter": "python",
   "pygments_lexer": "ipython3",
   "version": "3.10.15"
  }
 },
 "nbformat": 4,
 "nbformat_minor": 2
}
